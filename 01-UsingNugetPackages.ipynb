{
 "cells": [
  {
   "cell_type": "markdown",
   "metadata": {
    "polyglot_notebook": {
     "kernelName": "csharp"
    }
   },
   "source": [
    "# 🚀 Working with Nuget in .NET Interactive\n",
    "\n",
    "### Installing Nuget Packages"
   ]
  },
  {
   "cell_type": "code",
   "execution_count": null,
   "id": "d8b70c74",
   "metadata": {
    "polyglot_notebook": {
     "kernelName": "csharp"
    },
    "vscode": {
     "languageId": "polyglot-notebook"
    }
   },
   "outputs": [],
   "source": [
    "#r \"nuget: Newtonsoft.Json\""
   ]
  },
  {
   "cell_type": "code",
   "execution_count": null,
   "id": "f8b9f6cd",
   "metadata": {
    "polyglot_notebook": {
     "kernelName": "csharp"
    },
    "vscode": {
     "languageId": "polyglot-notebook"
    }
   },
   "outputs": [],
   "source": [
    "using Newtonsoft.Json;\n",
    "using Newtonsoft.Json.Linq;"
   ]
  },
  {
   "cell_type": "markdown",
   "id": "3fc58c9c",
   "metadata": {
    "vscode": {
     "languageId": "polyglot-notebook"
    }
   },
   "source": [
    "### Using Packages"
   ]
  },
  {
   "cell_type": "code",
   "execution_count": null,
   "id": "47b6c446",
   "metadata": {
    "polyglot_notebook": {
     "kernelName": "csharp"
    },
    "vscode": {
     "languageId": "polyglot-notebook"
    }
   },
   "outputs": [],
   "source": [
    "// Create a sample object\n",
    "var person = new\n",
    "{\n",
    "    Name = \"John Doe\",\n",
    "    Age = 30,\n",
    "    Email = \"john@example.com\",\n",
    "    Address = new\n",
    "    {\n",
    "        Street = \"123 Main St\",\n",
    "        City = \"Anytown\",\n",
    "        ZipCode = \"12345\"\n",
    "    }\n",
    "};\n",
    "\n",
    "// Serialize to JSON\n",
    "string json = JsonConvert.SerializeObject(person, Formatting.Indented);\n",
    "Console.WriteLine(\"Serialized JSON:\");\n",
    "Console.WriteLine(json);\n",
    "\n",
    "// Deserialize from JSON\n",
    "JObject parsed = JObject.Parse(json);\n",
    "Console.WriteLine(\"\\nAccessing properties:\");\n",
    "Console.WriteLine($\"Name: {parsed[\"Name\"]}\");\n",
    "Console.WriteLine($\"City: {parsed[\"Address\"][\"City\"]}\");"
   ]
  }
 ],
 "metadata": {
  "kernelspec": {
   "display_name": ".NET (C#)",
   "language": "C#",
   "name": ".net-csharp"
  },
  "language_info": {
   "name": "csharp"
  },
  "polyglot_notebook": {
   "kernelInfo": {
    "defaultKernelName": "csharp",
    "items": [
     {
      "aliases": [],
      "name": "csharp"
     }
    ]
   }
  }
 },
 "nbformat": 4,
 "nbformat_minor": 5
}
