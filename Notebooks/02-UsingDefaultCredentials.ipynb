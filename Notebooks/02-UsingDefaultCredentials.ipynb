{
 "cells": [
  {
   "cell_type": "markdown",
   "metadata": {
    "polyglot_notebook": {
     "kernelName": "csharp"
    },
    "vscode": {
     "languageId": "polyglot-notebook"
    }
   },
   "source": [
    "# 🔐 Using Azure Default Credentials with OpenAI Services\n",
    "\n",
    "> **Seamless Authentication in the Cloud ☁️**\n",
    "\n",
    "This notebook demonstrates how to authenticate to Azure OpenAI services using DefaultAzureCredential, \n",
    "providing a streamlined way to access AI capabilities without explicit credential management.\n",
    "\n",
    "## Features:\n",
    "* 🔑 Authentication with DefaultAzureCredential\n",
    "* 🤖 Connection to Azure OpenAI endpoints\n",
    "* 💬 Chat completions with GPT models\n",
    "* 🧠 Semantic Kernel integration\n",
    "\n",
    "---"
   ]
  },
  {
   "cell_type": "code",
   "execution_count": null,
   "id": "05f28319",
   "metadata": {
    "polyglot_notebook": {
     "kernelName": "csharp"
    },
    "vscode": {
     "languageId": "polyglot-notebook"
    }
   },
   "outputs": [],
   "source": [
    "#r \"nuget: Azure.Identity\"\n",
    "#r \"nuget: Microsoft.SemanticKernel, 1.23.0\""
   ]
  },
  {
   "cell_type": "code",
   "execution_count": null,
   "id": "f11c2867",
   "metadata": {
    "polyglot_notebook": {
     "kernelName": "csharp"
    },
    "vscode": {
     "languageId": "polyglot-notebook"
    }
   },
   "outputs": [],
   "source": [
    "using Azure.Core;\n",
    "using Azure.Identity;\n",
    "using Microsoft.Extensions.DependencyInjection;\n",
    "using Microsoft.Extensions.Logging;\n",
    "using Microsoft.SemanticKernel;\n",
    "using Microsoft.SemanticKernel.ChatCompletion;\n",
    "using Microsoft.SemanticKernel.Connectors.OpenAI;"
   ]
  },
  {
   "cell_type": "code",
   "execution_count": null,
   "id": "0685781f",
   "metadata": {
    "polyglot_notebook": {
     "kernelName": "csharp"
    },
    "vscode": {
     "languageId": "polyglot-notebook"
    }
   },
   "outputs": [],
   "source": [
    "var cred = new DefaultAzureCredential();\n",
    "var modelId = \"gpt-4o-mini\";\n",
    "var endpoint = \"https://agent-ai-servicess65o.openai.azure.com/\";"
   ]
  },
  {
   "cell_type": "code",
   "execution_count": null,
   "id": "3730d5f7",
   "metadata": {
    "polyglot_notebook": {
     "kernelName": "csharp"
    },
    "vscode": {
     "languageId": "polyglot-notebook"
    }
   },
   "outputs": [],
   "source": [
    "// Create a kernel with Azure OpenAI chat completion\n",
    "var builder = Kernel.CreateBuilder().AddAzureOpenAIChatCompletion(modelId, endpoint, cred);\n",
    "\n",
    "// Add enterprise components\n",
    "// builder.Services.AddLogging(services => services.AddConsole().SetMinimumLevel(LogLevel.Trace));\n",
    "\n",
    "// Build the kernel\n",
    "Kernel kernel = builder.Build();\n",
    "var chatCompletionService = kernel.GetRequiredService<IChatCompletionService>();\n",
    "\n",
    "// Enable planning\n",
    "OpenAIPromptExecutionSettings openAIPromptExecutionSettings = new() \n",
    "{\n",
    "    #pragma warning disable SKEXP0001\n",
    "    FunctionChoiceBehavior = FunctionChoiceBehavior.Auto()\n",
    "    #pragma warning restore SKEXP0001\n",
    "};"
   ]
  },
  {
   "cell_type": "code",
   "execution_count": null,
   "id": "54c091e4",
   "metadata": {
    "polyglot_notebook": {
     "kernelName": "csharp"
    },
    "vscode": {
     "languageId": "polyglot-notebook"
    }
   },
   "outputs": [],
   "source": [
    "var query = \"What is the capital of France?\";"
   ]
  },
  {
   "cell_type": "code",
   "execution_count": null,
   "id": "073a2e38",
   "metadata": {
    "polyglot_notebook": {
     "kernelName": "csharp"
    },
    "vscode": {
     "languageId": "polyglot-notebook"
    }
   },
   "outputs": [],
   "source": [
    "var result = await chatCompletionService.GetChatMessageContentAsync(\n",
    "        query,\n",
    "        executionSettings: openAIPromptExecutionSettings,\n",
    "        kernel: kernel);\n",
    "\n",
    "Console.WriteLine(result);"
   ]
  },
  {
   "cell_type": "code",
   "execution_count": null,
   "id": "b8dea2c3",
   "metadata": {
    "polyglot_notebook": {
     "kernelName": "csharp"
    },
    "vscode": {
     "languageId": "polyglot-notebook"
    }
   },
   "outputs": [],
   "source": []
  }
 ],
 "metadata": {
  "kernelspec": {
   "display_name": ".NET (C#)",
   "language": "C#",
   "name": ".net-csharp"
  },
  "language_info": {
   "name": "csharp"
  },
  "polyglot_notebook": {
   "kernelInfo": {
    "defaultKernelName": "csharp",
    "items": [
     {
      "aliases": [],
      "name": "csharp"
     }
    ]
   }
  }
 },
 "nbformat": 4,
 "nbformat_minor": 5
}
