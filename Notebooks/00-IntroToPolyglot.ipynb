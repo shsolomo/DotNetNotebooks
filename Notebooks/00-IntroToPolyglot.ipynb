{
 "cells": [
  {
   "cell_type": "markdown",
   "id": "e268cee4",
   "metadata": {},
   "source": [
    "# Using Polyglot Notebooks in VS Code\n",
    "\n",
    "## Getting Started 🚀\n",
    "\n",
    "1. **Install Required Extensions**:\n",
    "    - 📦 [Polyglot Notebooks](https://marketplace.visualstudio.com/items?itemName=ms-dotnettools.vscode-dotnet-runtime)\n",
    "    - 🔧 [.NET7 + SDK](https://dotnet.microsoft.com/en-us/download/dotnet/7.0)\n",
    "\n",
    "2. **Create a New Notebook**:\n",
    "    - 🔍 Press `ctrl+shift+p` and select `PolyglotNotebooks: Create Blank Notebook`\n",
    "    - 📄 Or simply create a file with `.ipynb` extension\n",
    "\n",
    "## Key Features ✨\n",
    "\n",
    "- 🌐 **Multiple Language Support**: Run cells in C#, F#, PowerShell, JavaScript, SQL, and more\n",
    "- 🔄 **Mixed Language Execution**: Seamlessly combine different languages in one notebook\n",
    "- 🔗 **Variable Sharing**: Share variables between cells of different languages\n",
    "- ✨ **Magic Commands**: Enhance functionality with `#!time`, `#!who`, `#!lsmagic` and more\n",
    "\n",
    "## Cell Types 📋\n",
    "\n",
    "- 💻 **Code Cells**: Write and execute code (select language with `#!<language>` at start)\n",
    "- 📝 **Markdown Cells**: Document your work with formatted text, lists, and tables\n",
    "- 📄 **Raw Cells**: Include content without execution or formatting\n",
    "\n",
    "## Keyboard Shortcuts ⌨️\n",
    "\n",
    "| Shortcut | Action |\n",
    "|----------|--------|\n",
    "| `Shift+Enter` | Run current cell and move to next |\n",
    "| `Alt+Enter` | Run current cell and insert new cell below |\n",
    "| `Ctrl+Enter` | Run current cell and stay in current cell |\n",
    "| `Esc` | Enter command mode |\n",
    "| `M` | Convert cell to markdown (in command mode) |\n",
    "| `Y` | Convert cell to code (in command mode) |"
   ]
  },
  {
   "cell_type": "code",
   "execution_count": null,
   "id": "989e97ea",
   "metadata": {
    "polyglot_notebook": {
     "kernelName": "csharp"
    },
    "vscode": {
     "languageId": "polyglot-notebook"
    }
   },
   "outputs": [],
   "source": [
    "// C# Hello World in Polyglot Notebooks\n",
    "using System;\n",
    "\n",
    "// Display a greeting message\n",
    "Console.WriteLine(\"Hello, World from C# in Polyglot Notebooks!\");\n",
    "\n",
    "// Demonstrate some basic C# features\n",
    "string name = \"Polyglot User\";\n",
    "DateTime currentTime = DateTime.Now;\n",
    "\n",
    "// String interpolation\n",
    "Console.WriteLine($\"Welcome {name}! The current time is {currentTime}\");\n",
    "\n",
    "// Using variables in expressions\n",
    "for (int i = 1; i <= 5; i++)\n",
    "{\n",
    "    Console.WriteLine($\"Count: {i}\");\n",
    "}\n",
    "\n",
    "// Return a value that will be displayed in the notebook output\n",
    "Console.WriteLine(\"C# execution completed successfully!\");"
   ]
  },
  {
   "cell_type": "markdown",
   "id": "fc4bb9ed",
   "metadata": {},
   "source": []
  }
 ],
 "metadata": {
  "kernelspec": {
   "display_name": ".NET (C#)",
   "language": "C#",
   "name": ".net-csharp"
  },
  "language_info": {
   "name": "csharp"
  },
  "polyglot_notebook": {
   "kernelInfo": {
    "defaultKernelName": "csharp",
    "items": [
     {
      "aliases": [],
      "name": "csharp"
     }
    ]
   }
  }
 },
 "nbformat": 4,
 "nbformat_minor": 5
}
